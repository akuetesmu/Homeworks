{
 "cells": [
  {
   "cell_type": "code",
   "execution_count": 29,
   "metadata": {},
   "outputs": [],
   "source": [
    "# PyBank Homework\n",
    "import os\n",
    "import csv\n"
   ]
  },
  {
   "cell_type": "code",
   "execution_count": 40,
   "metadata": {},
   "outputs": [],
   "source": [
    "# load and output files\n",
    "file_to_load = os.path.join(\"Resources\", \"budget_data.csv\")\n",
    "file_to_output = os.path.join(\"Desktop\",\"project\",\"Python\", \"budget_analysis.txt\")"
   ]
  },
  {
   "cell_type": "code",
   "execution_count": 41,
   "metadata": {},
   "outputs": [],
   "source": [
    "# track financial analysis parameters\n",
    "Total_Num_months = 0 \n",
    "Revenue = 0\n",
    "Net_total = 0 \n",
    "Month_of_change = []\n",
    "Change_revenue = []\n",
    "Greatest_increase = [\"\", 0]\n",
    "Greatest_decrease = [\"\", 99999999999999999]"
   ]
  },
  {
   "cell_type": "code",
   "execution_count": 42,
   "metadata": {},
   "outputs": [],
   "source": [
    "with open(file_to_load) as data:\n",
    "    reader = csv.DictReader(data)\n",
    "    \n",
    "    for dt in reader:\n",
    "        \n",
    "        # Calculate the totals\n",
    "        Total_Num_months = Total_Num_months + 1\n",
    "        Net_total = Net_total + int(dt[\"Profit/Losses\"])\n",
    "        # print(dt)\n",
    "        \n",
    "        # track revenue change\n",
    "        Revenue_data = int(dt[\"Profit/Losses\"]) - Revenue\n",
    "        Revenue = int(dt[\"Profit/Losses\"])\n",
    "        Change_revenue = Change_revenue + [Revenue_data]\n",
    "        Month_of_change = Month_of_change +[dt[\"Date\"]]\n",
    "        \n",
    "        # Calculate the greatest increase\n",
    "        if Revenue_data > Greatest_increase[1]:\n",
    "            Greatest_increase[0] = dt[\"Date\"]\n",
    "            Greatest_increase[1] = Revenue_data\n",
    "            \n",
    "        # Calculate the greatest decrease\n",
    "        if Revenue_data < Greatest_decrease[1]:\n",
    "            Greatest_decrease[0] = dt[\"Date\"]\n",
    "            Greatest_decrease[1] = Revenue_data"
   ]
  },
  {
   "cell_type": "code",
   "execution_count": 43,
   "metadata": {},
   "outputs": [
    {
     "data": {
      "text/plain": [
       "7803.476744186047"
      ]
     },
     "execution_count": 43,
     "metadata": {},
     "output_type": "execute_result"
    }
   ],
   "source": [
    "# average net change\n",
    "Average_change = sum(Change_revenue)/ len(Change_revenue)\n",
    "Average_change"
   ]
  },
  {
   "cell_type": "code",
   "execution_count": 44,
   "metadata": {},
   "outputs": [
    {
     "name": "stdout",
     "output_type": "stream",
     "text": [
      "\n",
      "\n",
      "\n",
      "budget Analysis\n",
      "_______________\n",
      "Total months: 86\n",
      "Total: $671099\n",
      "Average change: $7803.48\n",
      "Greatest Increase: Feb-2012 ($1926159)\n",
      "Greatest Decrease: Sep-2013 ($-2196167)\n"
     ]
    }
   ],
   "source": [
    "# Output\n",
    "\n",
    "print()\n",
    "print()\n",
    "print()\n",
    "print(\"budget Analysis\")\n",
    "print(\"_______________\")\n",
    "print(\"Total months: \" + str(Total_Num_months))\n",
    "print(\"Total: \" + \"$\" + str(Revenue))\n",
    "print(\"Average change: \" + \"$\" + str(round(sum(Change_revenue)/ len(Change_revenue),2)))\n",
    "print(\"Greatest Increase: \" + str(Greatest_increase[0]) + \" ($\" + str(Greatest_increase[1]) + \")\")\n",
    "print(\"Greatest Decrease: \" + str(Greatest_decrease[0]) + \" ($\" + str(Greatest_decrease[1]) + \")\")"
   ]
  },
  {
   "cell_type": "code",
   "execution_count": 46,
   "metadata": {},
   "outputs": [],
   "source": [
    "# export results to text file:\n",
    "# with open (file_to_output, \"w\") as txt_file:\n",
    "    # txt_file.write(output)"
   ]
  },
  {
   "cell_type": "code",
   "execution_count": null,
   "metadata": {},
   "outputs": [],
   "source": []
  },
  {
   "cell_type": "code",
   "execution_count": null,
   "metadata": {},
   "outputs": [],
   "source": []
  }
 ],
 "metadata": {
  "kernelspec": {
   "display_name": "Python 3",
   "language": "python",
   "name": "python3"
  },
  "language_info": {
   "codemirror_mode": {
    "name": "ipython",
    "version": 3
   },
   "file_extension": ".py",
   "mimetype": "text/x-python",
   "name": "python",
   "nbconvert_exporter": "python",
   "pygments_lexer": "ipython3",
   "version": "3.7.3"
  }
 },
 "nbformat": 4,
 "nbformat_minor": 2
}
